{
 "cells": [
  {
   "cell_type": "code",
   "execution_count": 1,
   "metadata": {
    "collapsed": true
   },
   "outputs": [],
   "source": [
    "import pandas\n",
    "import numpy as np"
   ]
  },
  {
   "cell_type": "code",
   "execution_count": 2,
   "metadata": {
    "collapsed": true
   },
   "outputs": [],
   "source": [
    "resultsRaw = pandas.read_csv('~/Data/Insight/pricing/test_results.csv')\n",
    "usersRaw = pandas.read_csv('~/Data/Insight/pricing/user_table.csv')"
   ]
  },
  {
   "cell_type": "markdown",
   "metadata": {},
   "source": [
    "## AB Testing"
   ]
  },
  {
   "cell_type": "code",
   "execution_count": 29,
   "metadata": {},
   "outputs": [
    {
     "name": "stdout",
     "output_type": "stream",
     "text": [
      "(316800, 12) (202672, 12) (114128, 12)\n",
      "Fraction converted group A: 0.0199   Fraction converted group B: 0.0156\n",
      "CDF of observing conversion rate B: 1.05985021524e-27\n"
     ]
    }
   ],
   "source": [
    "from scipy.stats import binom\n",
    "\n",
    "joinedRaw = pandas.merge(resultsRaw,\n",
    "                  usersRaw, how='left', \n",
    "                  left_on=['user_id'], right_on=['user_id'])\n",
    "\n",
    "groupA = joinedRaw.iloc[joinedRaw['price'].values==39]\n",
    "groupB = joinedRaw.iloc[joinedRaw['price'].values==59]\n",
    "\n",
    "print joinedRaw.shape,groupA.shape,groupB.shape\n",
    "\n",
    "convRateA = float(groupA['converted'].sum())/groupA['converted'].count()\n",
    "convRateB = float(groupB['converted'].sum())/groupB['converted'].count()\n",
    "print 'Fraction converted group A: %.4f   Fraction converted group B: %.4f'%(\n",
    "    convRateA,\n",
    "    convRateB)\n",
    "\n",
    "prob = binom.cdf(groupB['converted'].sum(), groupB['converted'].count(), convRateA)\n",
    "print 'CDF of observing conversion rate B:', prob"
   ]
  },
  {
   "cell_type": "markdown",
   "metadata": {},
   "source": [
    "The above means that changing the price is having a statistically significant effect on the conversion rate.\n",
    "\n",
    "Now, does this actually result in a profit...?"
   ]
  },
  {
   "cell_type": "code",
   "execution_count": 30,
   "metadata": {},
   "outputs": [
    {
     "data": {
      "text/plain": [
       "'Average profit per user, group A: 0.7757   Avg profit per user, group B: 0.9186'"
      ]
     },
     "execution_count": 30,
     "metadata": {},
     "output_type": "execute_result"
    }
   ],
   "source": [
    "'Average profit per user, group A: %.4f   Avg profit per user, group B: %.4f'%(\n",
    "    convRateA*39, convRateB*59)"
   ]
  },
  {
   "cell_type": "markdown",
   "metadata": {},
   "source": [
    "Yes, we do see a profit, so we should indeed switch everyone to the $59 price point"
   ]
  },
  {
   "cell_type": "markdown",
   "metadata": {},
   "source": [
    "## EDA"
   ]
  },
  {
   "cell_type": "code",
   "execution_count": 44,
   "metadata": {
    "collapsed": true
   },
   "outputs": [],
   "source": [
    "import matplotlib.pyplot as plt"
   ]
  },
  {
   "cell_type": "code",
   "execution_count": 57,
   "metadata": {},
   "outputs": [
    {
     "data": {
      "image/png": "[encoded data removed]",
      "text/plain": [
       "<matplotlib.figure.Figure at 0x7f960d499c90>"
      ]
     },
     "metadata": {},
     "output_type": "display_data"
    },
    {
     "data": {
      "image/png": "[encoded data removed]",
      "text/plain": [
       "<matplotlib.figure.Figure at 0x7f961e25fd10>"
      ]
     },
     "metadata": {},
     "output_type": "display_data"
    }
   ],
   "source": [
    "data = joinedRaw\n",
    "\n",
    "if False:\n",
    "    print data\n",
    "    latest_date = data['timestamp'].max()\n",
    "    data['filled_dates'] = data['timestamp'].fillna(latest_date)\n",
    "    pandas.to_datetime(data['filled_dates']).dt.dayofweek\n",
    "\n",
    "plt.figure()\n",
    "data['lat'].plot.hist(bins=20)\n",
    "plt.show()\n",
    "\n",
    "plt.figure()\n",
    "data['long'].plot.hist(bins=80)\n",
    "plt.show()\n"
   ]
  },
  {
   "cell_type": "code",
   "execution_count": 78,
   "metadata": {
    "scrolled": false
   },
   "outputs": [
    {
     "name": "stdout",
     "output_type": "stream",
     "text": [
      "        user_id            timestamp           source  device  \\\n",
      "62557    710895  2015-05-03 10:25:05   direct_traffic  mobile   \n",
      "313681   685401  2015-03-13 17:03:09       ads-google     web   \n",
      "108818   195611  2015-03-05 11:43:07       ads-google  mobile   \n",
      "295635   663212  2015-04-19 12:23:20       seo-google  mobile   \n",
      "43845    460632  2015-03-29 12:15:49         ads-bing  mobile   \n",
      "92120    948669  2015-03-15 20:23:18         seo-bing  mobile   \n",
      "13784    948563  2015-03-06 15:56:49       ads-google  mobile   \n",
      "277636   837251  2015-05-10 18:52:22       ads-google     web   \n",
      "309480   101406  2015-04-19 10:29:07  friend_referral     web   \n",
      "154786   136535  2015-04-25 15:46:45   direct_traffic  mobile   \n",
      "60807     83186  2015-05-08 18:59:21        ads-yahoo  mobile   \n",
      "28748    575261  2015-05-22 23:11:45   direct_traffic  mobile   \n",
      "93472    254900  2015-05-05 10:09:55       ads-google     web   \n",
      "276307   518275  2015-04-16 11:19:06     seo_facebook     web   \n",
      "303807   545429  2015-05-22 18:23:41     seo_facebook     web   \n",
      "7014     496538  2015-05-28 15:13:30     seo_facebook     web   \n",
      "83239    933396  2015-04-17 19:17:11     ads_facebook  mobile   \n",
      "154453   393091  2015-05-19 19:17:15       ads-google     web   \n",
      "28201    996398  2015-05-14 11:59:45     ads_facebook     web   \n",
      "238822   402583  2015-05-15 11:59:23         seo-bing  mobile   \n",
      "130076   893372  2015-05-03 11:06:07       ads-google     web   \n",
      "276339   154697  2015-05-15 07:18:01         ads-bing     web   \n",
      "175613    14553  2015-05-22 13:39:32   direct_traffic     web   \n",
      "44235    435187  2015-04-10 04:31:17       ads-google     web   \n",
      "114210   423244  2015-05-18 10:37:40        ads-yahoo     web   \n",
      "169551    53369  2015-03-08 18:47:24       ads-google  mobile   \n",
      "81054    151781  2015-03-21 11:30:01  friend_referral  mobile   \n",
      "130122   954821  2015-03-17 11:08:01  friend_referral  mobile   \n",
      "216977   479020  2015-04-07 11:37:45     ads_facebook  mobile   \n",
      "33612    248323  2015-05-15 10:27:57     seo_facebook  mobile   \n",
      "...         ...                  ...              ...     ...   \n",
      "252091   313278  2015-04-03 07:31:38       ads-google  mobile   \n",
      "154961   631846  2015-03-15 15:12:49       seo-google  mobile   \n",
      "229575   911427  2015-03-04 23:23:04     ads_facebook  mobile   \n",
      "172615   252337  2015-03-19 18:44:06       seo-google     web   \n",
      "304569   976288  2015-05-07 01:24:40        ads_other  mobile   \n",
      "292425   993931  2015-04-09 08:04:12        ads_other  mobile   \n",
      "4823     489228  2015-05-31 12:03:23        ads_other     web   \n",
      "257257   159527  2015-03-16 11:02:14       ads-google  mobile   \n",
      "17701    529774  2015-04-26 07:18:27     seo_facebook  mobile   \n",
      "144153   267919  2015-04-19 16:21:39   direct_traffic  mobile   \n",
      "100708   368633  2015-04-09 08:02:39   direct_traffic     web   \n",
      "170772   910857  2015-04-03 10:52:15     ads_facebook  mobile   \n",
      "161679   466711  2015-04-19 11:25:35     ads_facebook  mobile   \n",
      "220375   489964  2015-05-31 11:10:05       seo-google     web   \n",
      "119680   803557  2015-05-28 08:59:54       ads-google  mobile   \n",
      "45408    770934  2015-04-25 13:32:42     ads_facebook     web   \n",
      "246949   559093  2015-03-20 16:43:50     ads_facebook     web   \n",
      "237360   401093  2015-03-02 21:25:46       seo-google  mobile   \n",
      "76022     75589  2015-05-31 10:12:10        seo-yahoo  mobile   \n",
      "24794    380612  2015-05-15 11:21:24        ads_other  mobile   \n",
      "67340    905312  2015-04-17 14:07:54       ads-google     web   \n",
      "312212   477359  2015-04-27 11:18:16       ads-google  mobile   \n",
      "161885   779277  2015-03-28 12:17:55     ads_facebook  mobile   \n",
      "245272   228933  2015-04-26 12:58:26        ads_other  mobile   \n",
      "278760   568125  2015-05-14 07:28:42       seo-google     web   \n",
      "63351     28590  2015-03-14 05:58:49  friend_referral  mobile   \n",
      "50348    751370  2015-05-18 08:31:26     ads_facebook  mobile   \n",
      "46395    673875  2015-03-13 00:11:19     ads_facebook  mobile   \n",
      "199118   432285  2015-03-22 12:52:57     ads_facebook  mobile   \n",
      "196038   629664  2015-05-15 04:01:32        ads_other     web   \n",
      "\n",
      "       operative_system  test  price  converted             city country  \\\n",
      "62557               iOS     0     39          1        Rochester     USA   \n",
      "313681          windows     1     59          1              NaN     NaN   \n",
      "108818          android     0     39          1              NaN     NaN   \n",
      "295635          android     0     39          1           Irvine     USA   \n",
      "43845           android     1     59          1              NaN     NaN   \n",
      "92120           android     1     59          1          Raleigh     USA   \n",
      "13784               iOS     0     39          1      Aliso Viejo     USA   \n",
      "277636          windows     1     59          1        Fullerton     USA   \n",
      "309480          windows     0     39          1        Covington     USA   \n",
      "154786          android     1     59          1     Jacksonville     USA   \n",
      "60807               iOS     0     39          1          Oakland     USA   \n",
      "28748               iOS     0     39          1      Los Angeles     USA   \n",
      "93472           windows     0     39          1           Mobile     USA   \n",
      "276307          windows     0     39          1       Richardson     USA   \n",
      "303807              mac     0     39          1        Nashville     USA   \n",
      "7014            windows     1     59          1        Bradenton     USA   \n",
      "83239           android     0     39          1  Barnstable Town     USA   \n",
      "154453          windows     0     39          1              NaN     NaN   \n",
      "28201           windows     1     59          1      Federal Way     USA   \n",
      "238822              iOS     1     59          1              NaN     NaN   \n",
      "130076          windows     0     39          1          Orlando     USA   \n",
      "276339          windows     0     39          1         Stamford     USA   \n",
      "175613          windows     0     39          1          Raleigh     USA   \n",
      "44235               mac     0     39          1           Camden     USA   \n",
      "114210          windows     0     39          1      Saint Cloud     USA   \n",
      "169551          android     1     59          1              NaN     NaN   \n",
      "81054           android     1     59          1              NaN     NaN   \n",
      "130122              iOS     0     39          1              NaN     NaN   \n",
      "216977          android     0     39          1           Fresno     USA   \n",
      "33612               iOS     0     39          1         New York     USA   \n",
      "...                 ...   ...    ...        ...              ...     ...   \n",
      "252091              iOS     1     59          1        Lancaster     USA   \n",
      "154961              iOS     0     39          1        Las Vegas     USA   \n",
      "229575              iOS     0     39          1     Philadelphia     USA   \n",
      "172615          windows     0     39          1       San Marcos     USA   \n",
      "304569          android     0     39          1             Enid     USA   \n",
      "292425          android     0     39          1         New York     USA   \n",
      "4823            windows     1     59          1         San Jose     USA   \n",
      "257257              iOS     0     39          1         New York     USA   \n",
      "17701               iOS     1     59          1          Houston     USA   \n",
      "144153          android     0     39          1          Roswell     USA   \n",
      "100708          windows     0     39          1              NaN     NaN   \n",
      "170772              iOS     0     39          1   Corpus Christi     USA   \n",
      "161679          android     0     39          1              NaN     NaN   \n",
      "220375          windows     1     59          1     Garden Grove     USA   \n",
      "119680          android     0     39          1       Florissant     USA   \n",
      "45408               mac     0     39          1          Seattle     USA   \n",
      "246949          windows     1     59          1          Suffolk     USA   \n",
      "237360          android     0     39          1     Indianapolis     USA   \n",
      "76022               iOS     1     59          1        Santa Ana     USA   \n",
      "24794               iOS     0     39          1         Vineland     USA   \n",
      "67340           windows     1     59          1       Scottsdale     USA   \n",
      "312212              iOS     1     59          1           Fresno     USA   \n",
      "161885              iOS     0     39          1        Fullerton     USA   \n",
      "245272              iOS     1     59          1         Rosemead     USA   \n",
      "278760          windows     1     59          1     Lehigh Acres     USA   \n",
      "63351           android     0     39          1  Fort Lauderdale     USA   \n",
      "50348           android     0     39          1       Providence     USA   \n",
      "46395           android     1     59          1         Murrieta     USA   \n",
      "199118          android     1     59          1      Los Angeles     USA   \n",
      "196038          windows     0     39          1      Minneapolis     USA   \n",
      "\n",
      "          lat    long         filled_dates  long_fill  lat_fill  \n",
      "62557   43.17  -77.62  2015-05-03 10:25:05     -77.62     43.17  \n",
      "313681    NaN     NaN  2015-03-13 17:03:09    -180.00     10.00  \n",
      "108818    NaN     NaN  2015-03-05 11:43:07    -180.00     10.00  \n",
      "295635  33.66 -117.80  2015-04-19 12:23:20    -117.80     33.66  \n",
      "43845     NaN     NaN  2015-03-29 12:15:49    -180.00     10.00  \n",
      "92120   35.82  -78.66  2015-03-15 20:23:18     -78.66     35.82  \n",
      "13784   33.57 -117.73  2015-03-06 15:56:49    -117.73     33.57  \n",
      "277636  33.88 -117.93  2015-05-10 18:52:22    -117.93     33.88  \n",
      "309480  39.04  -84.51  2015-04-19 10:29:07     -84.51     39.04  \n",
      "154786  30.33  -81.66  2015-04-25 15:46:45     -81.66     30.33  \n",
      "60807   37.77 -122.22  2015-05-08 18:59:21    -122.22     37.77  \n",
      "28748   34.11 -118.41  2015-05-22 23:11:45    -118.41     34.11  \n",
      "93472   30.68  -88.09  2015-05-05 10:09:55     -88.09     30.68  \n",
      "276307  32.97  -96.71  2015-04-16 11:19:06     -96.71     32.97  \n",
      "303807  36.17  -86.78  2015-05-22 18:23:41     -86.78     36.17  \n",
      "7014    27.49  -82.58  2015-05-28 15:13:30     -82.58     27.49  \n",
      "83239   41.70  -70.30  2015-04-17 19:17:11     -70.30     41.70  \n",
      "154453    NaN     NaN  2015-05-19 19:17:15    -180.00     10.00  \n",
      "28201   47.31 -122.34  2015-05-14 11:59:45    -122.34     47.31  \n",
      "238822    NaN     NaN  2015-05-15 11:59:23    -180.00     10.00  \n",
      "130076  28.50  -81.37  2015-05-03 11:06:07     -81.37     28.50  \n",
      "276339  41.10  -73.55  2015-05-15 07:18:01     -73.55     41.10  \n",
      "175613  35.82  -78.66  2015-05-22 13:39:32     -78.66     35.82  \n",
      "44235   39.94  -75.11  2015-04-10 04:31:17     -75.11     39.94  \n",
      "114210  45.55  -94.17  2015-05-18 10:37:40     -94.17     45.55  \n",
      "169551    NaN     NaN  2015-03-08 18:47:24    -180.00     10.00  \n",
      "81054     NaN     NaN  2015-03-21 11:30:01    -180.00     10.00  \n",
      "130122    NaN     NaN  2015-03-17 11:08:01    -180.00     10.00  \n",
      "216977  36.78 -119.79  2015-04-07 11:37:45    -119.79     36.78  \n",
      "33612   40.67  -73.94  2015-05-15 10:27:57     -73.94     40.67  \n",
      "...       ...     ...                  ...        ...       ...  \n",
      "252091  34.69 -118.18  2015-04-03 07:31:38    -118.18     34.69  \n",
      "154961  36.21 -115.22  2015-03-15 15:12:49    -115.22     36.21  \n",
      "229575  40.01  -75.13  2015-03-04 23:23:04     -75.13     40.01  \n",
      "172615  29.88  -97.93  2015-03-19 18:44:06     -97.93     29.88  \n",
      "304569  36.41  -97.87  2015-05-07 01:24:40     -97.87     36.41  \n",
      "292425  40.67  -73.94  2015-04-09 08:04:12     -73.94     40.67  \n",
      "4823    37.30 -121.85  2015-05-31 12:03:23    -121.85     37.30  \n",
      "257257  40.67  -73.94  2015-03-16 11:02:14     -73.94     40.67  \n",
      "17701   29.77  -95.39  2015-04-26 07:18:27     -95.39     29.77  \n",
      "144153  33.37 -104.53  2015-04-19 16:21:39    -104.53     33.37  \n",
      "100708    NaN     NaN  2015-04-09 08:02:39    -180.00     10.00  \n",
      "170772  27.71  -97.29  2015-04-03 10:52:15     -97.29     27.71  \n",
      "161679    NaN     NaN  2015-04-19 11:25:35    -180.00     10.00  \n",
      "220375  33.78 -117.96  2015-05-31 11:10:05    -117.96     33.78  \n",
      "119680  38.80  -90.32  2015-05-28 08:59:54     -90.32     38.80  \n",
      "45408   47.62 -122.35  2015-04-25 13:32:42    -122.35     47.62  \n",
      "246949  36.70  -76.64  2015-03-20 16:43:50     -76.64     36.70  \n",
      "237360  39.78  -86.15  2015-03-02 21:25:46     -86.15     39.78  \n",
      "76022   33.74 -117.88  2015-05-31 10:12:10    -117.88     33.74  \n",
      "24794   39.46  -75.00  2015-05-15 11:21:24     -75.00     39.46  \n",
      "67340   33.69 -111.87  2015-04-17 14:07:54    -111.87     33.69  \n",
      "312212  36.78 -119.79  2015-04-27 11:18:16    -119.79     36.78  \n",
      "161885  33.88 -117.93  2015-03-28 12:17:55    -117.93     33.88  \n",
      "245272  34.07 -118.08  2015-04-26 12:58:26    -118.08     34.07  \n",
      "278760  26.60  -81.63  2015-05-14 07:28:42     -81.63     26.60  \n",
      "63351   26.14  -80.14  2015-03-14 05:58:49     -80.14     26.14  \n",
      "50348   41.82  -71.42  2015-05-18 08:31:26     -71.42     41.82  \n",
      "46395   33.56 -117.21  2015-03-13 00:11:19    -117.21     33.56  \n",
      "199118  34.11 -118.41  2015-03-22 12:52:57    -118.41     34.11  \n",
      "196038  44.96  -93.27  2015-05-15 04:01:32     -93.27     44.96  \n",
      "\n",
      "[1000 rows x 15 columns] (310992, 15)\n",
      "(2000, 12) (2000, 12) (2000, 6)\n"
     ]
    }
   ],
   "source": [
    "data = joinedRaw\n",
    "\n",
    "print data.iloc[data['converted'].values==1].sample(n=1000), data.iloc[data['converted'].values==0].shape\n",
    "\n",
    "data = pandas.concat([data.iloc[data['converted'].values==1].sample(n=1000), \n",
    "                      data.iloc[data['converted'].values==0].sample(n=1000)])\n",
    "\n",
    "data['long_fill'] = data['long'].fillna(-180)\n",
    "USeast = data['long_fill'].values > -85\n",
    "UScent = (data['long_fill'].values <= -85) & (data['long_fill'].values > -100)\n",
    "USwest = data['long_fill'].values <= -100\n",
    "\n",
    "data['lat_fill'] = data['lat'].fillna(10)\n",
    "USnorth = data['lat_fill'].values > 37\n",
    "USsouth = data['lat_fill'].values <= 37\n",
    "\n",
    "source = pandas.get_dummies(data['source'])\n",
    "device = pandas.get_dummies(data['source'])\n",
    "OSes = pandas.get_dummies(data['operative_system'])\n",
    "\n",
    "print source.shape, device.shape, OSes.shape"
   ]
  },
  {
   "cell_type": "code",
   "execution_count": 79,
   "metadata": {},
   "outputs": [
    {
     "data": {
      "text/plain": [
       "2000"
      ]
     },
     "execution_count": 79,
     "metadata": {},
     "output_type": "execute_result"
    }
   ],
   "source": [
    "nfeatures = 12+12+6\n",
    "\n",
    "nposts = len(data)\n",
    "test = ((np.arange(nposts) % 10) == 0) | ((np.arange(nposts) % 10) == 3)\n",
    "train = np.logical_not(test)\n",
    "ntrain = len(np.where(train)[0])\n",
    "\n",
    "if True:\n",
    "    data_model = np.zeros([nposts,nfeatures])\n",
    "    data_model[:,0:12] = source.values\n",
    "    data_model[:,12:24] = device.values\n",
    "    data_model[:,24:30] = OSes.values\n",
    "    \n",
    "    feat_min = []\n",
    "    feat_max = []\n",
    "    feat_mean = []\n",
    "    for i in range(nfeatures):\n",
    "        feat_min.append(np.min(data_model[:,i]))\n",
    "        feat_max.append(np.max(data_model[:,i]))\n",
    "        feat_mean.append(np.mean(data_model[:,i]))\n",
    "        data_model[:,i] = (data_model[:,i] - feat_mean[i]) / (feat_max[i] - feat_min[i])\n",
    "\n",
    "    data_train = data_model[train,:]\n",
    "    data_test = data_model[test,:]\n",
    "    \n",
    "    y_model = data['converted'].values\n",
    "    if False:\n",
    "        y_min = np.min(y_model)\n",
    "        y_max = np.max(y_model)\n",
    "        y_mean = np.mean(y_model)\n",
    "        y_model = (y_model - y_mean)  / (y_max - y_min)\n",
    "    y_train = y_model[train]\n",
    "    y_test = y_model[test]\n",
    "\n",
    "nposts"
   ]
  },
  {
   "cell_type": "code",
   "execution_count": 101,
   "metadata": {},
   "outputs": [
    {
     "name": "stdout",
     "output_type": "stream",
     "text": [
      "96.0\n"
     ]
    },
    {
     "data": {
      "image/png": "[encoded data removed]",
      "text/plain": [
       "<matplotlib.figure.Figure at 0x7f960d91f610>"
      ]
     },
     "metadata": {},
     "output_type": "display_data"
    },
    {
     "name": "stdout",
     "output_type": "stream",
     "text": [
      "Accuracy: 0.56637   Recall: 0.64000   F1 score: 0.30047 \n"
     ]
    }
   ],
   "source": [
    "from sklearn import linear_model, datasets\n",
    "from sklearn.metrics import mean_squared_error as MSE, r2_score as R2S, confusion_matrix\n",
    "import matplotlib.pyplot as plt\n",
    "import itertools\n",
    "\n",
    "# Run regression\n",
    "\n",
    "regr = linear_model.LogisticRegression()\n",
    "regr.fit(data_train, y_train)\n",
    "\n",
    "y_pred = regr.predict(data_test)\n",
    "cm = confusion_matrix(y_test,y_pred)\n",
    "\n",
    "if True:\n",
    "    plt.imshow(cm, interpolation='nearest', cmap=plt.cm.Blues)\n",
    "    plt.title('Predicted Conversions vs True')\n",
    "    plt.colorbar()\n",
    "\n",
    "    fmt = '.2f' if True else 'd'\n",
    "    thresh = cm.max() * .75\n",
    "    print thresh\n",
    "    for i, j in itertools.product(range(cm.shape[0]), range(cm.shape[1])):\n",
    "        plt.text(j, i, format(cm[i, j], fmt),\n",
    "                 horizontalalignment=\"center\",\n",
    "                 color=(\"white\" if (cm[i, j] > thresh) else \"black\"))\n",
    "\n",
    "    plt.tight_layout()\n",
    "    plt.ylabel('True label')\n",
    "    plt.xlabel('Predicted label')\n",
    "    plt.show()\n",
    "\n",
    "accuracy = float(cm[0,0])/(cm[0,0]+cm[1,0])\n",
    "recall = float(cm[0,0])/(cm[0,0]+cm[0,1])\n",
    "print \"Accuracy: %.5f   Recall: %.5f   F1 score: %.5f \"%(accuracy,\n",
    "                                                    recall,\n",
    "                                                    accuracy*recall/(accuracy+recall))"
   ]
  },
  {
   "cell_type": "code",
   "execution_count": 112,
   "metadata": {},
   "outputs": [
    {
     "name": "stdout",
     "output_type": "stream",
     "text": [
      "                  0         0\n",
      "0          ads-bing -0.308181\n",
      "1        ads-google  0.162755\n",
      "2         ads-yahoo -0.060195\n",
      "3      ads_facebook  0.105683\n",
      "4         ads_other -0.055007\n",
      "5    direct_traffic -0.020944\n",
      "6   friend_referral  0.431761\n",
      "7          seo-bing -0.137087\n",
      "8        seo-google  0.100151\n",
      "9         seo-other -0.125520\n",
      "10        seo-yahoo -0.164014\n",
      "11     seo_facebook  0.070597\n",
      "12         ads-bing -0.308181\n",
      "13       ads-google  0.162755\n",
      "14        ads-yahoo -0.060195\n",
      "15     ads_facebook  0.105683\n",
      "16        ads_other -0.055007\n",
      "17   direct_traffic -0.020944\n",
      "18  friend_referral  0.431761\n",
      "19         seo-bing -0.137087\n",
      "20       seo-google  0.100151\n",
      "21        seo-other -0.125520\n",
      "22        seo-yahoo -0.164014\n",
      "23     seo_facebook  0.070597\n",
      "24          android -0.078302\n",
      "25              iOS  0.355569\n",
      "26            linux -0.186839\n",
      "27              mac  0.510942\n",
      "28            other -0.592281\n",
      "29          windows -0.009089\n"
     ]
    }
   ],
   "source": [
    "features = list(source.columns.values) + list(device.columns.values) + list(OSes.columns.values)\n",
    "\n",
    "coefficients = pandas.concat([pandas.DataFrame(features),\n",
    "                              pandas.DataFrame(np.transpose(regr.coef_))], \n",
    "                             axis = 1)\n",
    "print coefficients"
   ]
  },
  {
   "cell_type": "code",
   "execution_count": null,
   "metadata": {
    "collapsed": true
   },
   "outputs": [],
   "source": []
  }
 ],
 "metadata": {
  "kernelspec": {
   "display_name": "Python 2",
   "language": "python",
   "name": "python2"
  },
  "language_info": {
   "codemirror_mode": {
    "name": "ipython",
    "version": 2
   },
   "file_extension": ".py",
   "mimetype": "text/x-python",
   "name": "python",
   "nbconvert_exporter": "python",
   "pygments_lexer": "ipython2",
   "version": "2.7.12"
  }
 },
 "nbformat": 4,
 "nbformat_minor": 2
}
