{
 "cells": [
  {
   "cell_type": "code",
   "execution_count": 1,
   "metadata": {
    "collapsed": true
   },
   "outputs": [],
   "source": [
    "import pandas\n",
    "dataRaw = pandas.read_csv('~/Data/Insight/employee_retention_data.csv')"
   ]
  },
  {
   "cell_type": "code",
   "execution_count": 2,
   "metadata": {
    "scrolled": false
   },
   "outputs": [
    {
     "name": "stdout",
     "output_type": "stream",
     "text": [
      "      company_id         day  employee_headcount\n",
      "0              1  2011-01-24                25.0\n",
      "1              1  2011-01-25                27.0\n",
      "2              1  2011-01-26                29.0\n",
      "3              1  2011-01-31                59.0\n",
      "4              1  2011-02-01                66.0\n",
      "5              1  2011-02-02                67.0\n",
      "6              1  2011-02-07                99.0\n",
      "7              1  2011-02-08               102.0\n",
      "8              1  2011-02-09               104.0\n",
      "9              1  2011-02-14               129.0\n",
      "10             1  2011-02-15               130.0\n",
      "11             1  2011-02-16               132.0\n",
      "12             1  2011-02-22               156.0\n",
      "13             1  2011-02-23               159.0\n",
      "14             1  2011-02-28               178.0\n",
      "15             1  2011-03-02               181.0\n",
      "16             1  2011-03-03               182.0\n",
      "17             1  2011-03-07               210.0\n",
      "18             1  2011-03-09               211.0\n",
      "19             1  2011-03-10               212.0\n",
      "20             1  2011-03-14               231.0\n",
      "21             1  2011-03-15               234.0\n",
      "22             1  2011-03-16               236.0\n",
      "23             1  2011-03-17               237.0\n",
      "24             1  2011-03-21               268.0\n",
      "25             1  2011-03-22               270.0\n",
      "26             1  2011-03-23               272.0\n",
      "27             1  2011-03-28               301.0\n",
      "28             1  2011-03-29               305.0\n",
      "29             1  2011-04-04               333.0\n",
      "...          ...         ...                 ...\n",
      "5111          12  2011-06-20                 4.0\n",
      "5112          12  2011-10-13                 5.0\n",
      "7343          12  2012-02-24                 4.0\n",
      "5113          12  2012-03-12                 5.0\n",
      "7344          12  2012-05-04                 4.0\n",
      "7345          12  2012-05-18                 3.0\n",
      "5114          12  2012-07-02                 4.0\n",
      "5115          12  2012-11-12                 5.0\n",
      "5116          12  2012-11-26                 6.0\n",
      "5117          12  2012-12-06                 7.0\n",
      "5118          12  2013-03-04                 8.0\n",
      "5119          12  2013-03-11                 9.0\n",
      "7346          12  2013-04-05                 8.0\n",
      "5120          12  2013-04-15                 9.0\n",
      "7347          12  2013-05-10                 8.0\n",
      "7348          12  2013-07-12                 7.0\n",
      "5121          12  2013-07-15                 8.0\n",
      "5122          12  2013-07-29                 9.0\n",
      "7349          12  2013-10-18                 8.0\n",
      "7350          12  2013-10-25                 7.0\n",
      "5123          12  2013-12-17                 8.0\n",
      "5124          12  2014-01-13                10.0\n",
      "7351          12  2014-02-07                 9.0\n",
      "5125          12  2014-05-19                11.0\n",
      "7352          12  2014-09-19                10.0\n",
      "5126          12  2014-10-13                11.0\n",
      "5127          12  2015-03-23                12.0\n",
      "7353          12  2015-05-08                10.0\n",
      "5128          12  2015-07-06                11.0\n",
      "5129          12  2015-07-27                12.0\n",
      "\n",
      "[7354 rows x 3 columns]\n"
     ]
    }
   ],
   "source": [
    "# Count number of people joining and quiting each day\n",
    "joinCount = dataRaw.groupby(['company_id','join_date']).size().reset_index(name='join_count')\n",
    "quitCount = dataRaw.groupby(['company_id','quit_date']).size().reset_index(name='quit_count')\n",
    "\n",
    "# Merge (i.e. join) join and quit tables\n",
    "mergedCount = pandas.merge(joinCount.rename(columns={'join_date':'day'}),\n",
    "                  quitCount.rename(columns={'quit_date':'day'}), how='outer', \n",
    "                  left_on=['day','company_id'], right_on=['day','company_id'])\n",
    "\n",
    "# Sort by date\n",
    "mergedCount = mergedCount.fillna(0)\n",
    "mergedCount = mergedCount.sort_values(['company_id','day'])\n",
    "\n",
    "# Get cumulative sum of join and quit counts, then subtract the difference to get headcount\n",
    "mergedCount['joinSum']=mergedCount.groupby(['company_id'])['join_count'].apply(lambda x:x.cumsum())\n",
    "mergedCount['quitSum']=mergedCount.groupby(['company_id'])['quit_count'].apply(lambda x:x.cumsum())\n",
    "\n",
    "mergedCount['employee_headcount']=mergedCount['joinSum'].sub(mergedCount['quitSum'])\n",
    "headCount=mergedCount.drop(['join_count','quit_count','joinSum','quitSum'], 1)\n",
    "\n",
    "print headCount"
   ]
  },
  {
   "cell_type": "code",
   "execution_count": null,
   "metadata": {
    "collapsed": true
   },
   "outputs": [],
   "source": []
  },
  {
   "cell_type": "code",
   "execution_count": 3,
   "metadata": {
    "scrolled": false
   },
   "outputs": [
    {
     "data": {
      "text/plain": [
       "11192"
      ]
     },
     "execution_count": 3,
     "metadata": {},
     "output_type": "execute_result"
    }
   ],
   "source": [
    "import numpy as np\n",
    "data = dataRaw\n",
    "\n",
    "# First fill in N/A quit dates with a dummy value\n",
    "latest_date = data['quit_date'].max()\n",
    "isNA = data['quit_date'].isnull()\n",
    "data['filled_quit_date'] = data['quit_date'].fillna(latest_date)\n",
    "\n",
    "# Then find longest anyone has stayed at a company. This is the longest measurable longevity of any employee\n",
    "data['join_date'] = pandas.to_datetime(data['join_date'])\n",
    "data['filled_quit_date'] = pandas.to_datetime(data['filled_quit_date'])\n",
    "data['duration'] = data['filled_quit_date'].sub(data['join_date'], axis=0)\n",
    "\n",
    "# And add the longest duration to anyone who hasn't quit yet and has been working for\n",
    "# at least the median number of days\n",
    "\n",
    "\n",
    "\n",
    "\n",
    "\n",
    "# Actually never mind, just take out outliers...\n",
    "keep = (data['seniority'].values < 40) & (data['quit_date'].isnull())\n",
    "data = data[keep]\n",
    "depts = pandas.get_dummies(data['dept'])\n",
    "\n",
    "# ...and do a regression\n",
    "nposts = len(data)\n",
    "test = ((np.arange(nposts) % 10) == 0) | ((np.arange(nposts) % 10) == 3)\n",
    "train = np.logical_not(test)\n",
    "ntrain = len(np.where(train)[0])\n",
    "\n",
    "# Columns are:\n",
    "# employee_id  company_id  dept  seniority  salary  join_date  quit_date  filled_quit_date  duration\n",
    "# Depts are:\n",
    "# customer_service  data_science  design  engineer  marketing  sales\n",
    "\n",
    "# Normalize data\n",
    "nfeatures = 9\n",
    "if True:\n",
    "    data_model = np.zeros([nposts,nfeatures])\n",
    "    data_model[:,0] = data['company_id'].values\n",
    "    data_model[:,1] = data['seniority'].values\n",
    "    data_model[:,2] = data['salary'].values\n",
    "    data_model[:,3] = depts['customer_service'].values\n",
    "    data_model[:,4] = depts['data_science'].values\n",
    "    data_model[:,5] = depts['design'].values\n",
    "    data_model[:,6] = depts['engineer'].values\n",
    "    data_model[:,7] = depts['marketing'].values\n",
    "    data_model[:,8] = depts['sales'].values\n",
    "    \n",
    "    feat_min = []\n",
    "    feat_max = []\n",
    "    feat_mean = []\n",
    "    for i in range(nfeatures):\n",
    "        feat_min.append(np.min(data_model[:,i]))\n",
    "        feat_max.append(np.max(data_model[:,i]))\n",
    "        feat_mean.append(np.mean(data_model[:,i]))\n",
    "        data_model[:,i] = (data_model[:,i] - feat_mean[i]) / (feat_max[i] - feat_min[i])\n",
    "    data_train = data_model[train,:]\n",
    "    data_test = data_model[test,:]\n",
    "    \n",
    "    y_model = data['duration'].values\n",
    "    y_min = np.min(y_model)\n",
    "    y_max = np.max(y_model)\n",
    "    y_mean = np.mean(y_model)\n",
    "    y_model = (y_model - y_mean)  / (y_max - y_min)\n",
    "    y_train = y_model[train]\n",
    "    y_test = y_model[test]\n",
    "\n",
    "nposts"
   ]
  },
  {
   "cell_type": "code",
   "execution_count": 4,
   "metadata": {},
   "outputs": [
    {
     "name": "stdout",
     "output_type": "stream",
     "text": [
      "MSE: 0.049937\n",
      "R2S: 0.000545\n"
     ]
    },
    {
     "data": {
      "image/png": "[encoded data removed]",
      "text/plain": [
       "<matplotlib.figure.Figure at 0x7f4cb9ca0c50>"
      ]
     },
     "metadata": {},
     "output_type": "display_data"
    }
   ],
   "source": [
    "from sklearn import linear_model, datasets\n",
    "from sklearn.metrics import mean_squared_error as MSE, r2_score as R2S\n",
    "import matplotlib.pyplot as plt\n",
    "\n",
    "# Run regression\n",
    "\n",
    "regr = linear_model.LinearRegression()\n",
    "regr.fit(data_train, y_train)\n",
    "\n",
    "y_pred = regr.predict(data_test)\n",
    "\n",
    "print 'MSE: %8f'%MSE(y_test, y_pred)\n",
    "print 'R2S: %8f'%R2S(y_test, y_pred)\n",
    "\n",
    "fig = plt.figure(figsize=[5,5])\n",
    "feat = 2\n",
    "data_reverted = data_test[:,feat]*(feat_max[feat]-feat_min[feat])+feat_mean[feat]\n",
    "plt.scatter( data_reverted, y_test,  color='black')\n",
    "plt.scatter( data_reverted, y_pred, color='blue', linewidth=3)\n",
    "plt.xlabel('Feature %d'%(feat))\n",
    "plt.ylabel('Duration')\n",
    "plt.show()\n"
   ]
  },
  {
   "cell_type": "code",
   "execution_count": 5,
   "metadata": {},
   "outputs": [
    {
     "name": "stdout",
     "output_type": "stream",
     "text": [
      "MSE: 0.049910\n",
      "R2S: 0.001079\n"
     ]
    }
   ],
   "source": [
    "# Salary seems to be the best predictor\n",
    "# Let's just use that\n",
    "\n",
    "featureList = [2]\n",
    "temp_data = data_model[:,featureList]\n",
    "data_train = temp_data[train,:]\n",
    "data_test = temp_data[test,:]\n",
    "\n",
    "regr.fit(data_train, y_train)\n",
    "y_pred = regr.predict(data_test)\n",
    "\n",
    "print 'MSE: %8f'%MSE(y_test, y_pred)\n",
    "print 'R2S: %8f'%R2S(y_test, y_pred)\n",
    "\n",
    "\n",
    "# Only a little better"
   ]
  },
  {
   "cell_type": "code",
   "execution_count": null,
   "metadata": {
    "collapsed": true
   },
   "outputs": [],
   "source": []
  }
 ],
 "metadata": {
  "kernelspec": {
   "display_name": "Python 2",
   "language": "python",
   "name": "python2"
  },
  "language_info": {
   "codemirror_mode": {
    "name": "ipython",
    "version": 2
   },
   "file_extension": ".py",
   "mimetype": "text/x-python",
   "name": "python",
   "nbconvert_exporter": "python",
   "pygments_lexer": "ipython2",
   "version": "2.7.12"
  }
 },
 "nbformat": 4,
 "nbformat_minor": 2
}
