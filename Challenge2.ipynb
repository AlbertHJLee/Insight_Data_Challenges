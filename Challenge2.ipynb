{
 "cells": [
  {
   "cell_type": "code",
   "execution_count": 2,
   "metadata": {
    "collapsed": true
   },
   "outputs": [],
   "source": [
    "import pandas\n",
    "import numpy as np"
   ]
  },
  {
   "cell_type": "code",
   "execution_count": 3,
   "metadata": {
    "collapsed": true
   },
   "outputs": [],
   "source": [
    "resultsRaw = pandas.read_csv('~/Data/Insight/pricing/test_results.csv')\n",
    "usersRaw = pandas.read_csv('~/Data/Insight/pricing/user_table.csv')"
   ]
  },
  {
   "cell_type": "markdown",
   "metadata": {},
   "source": [
    "## AB Testing"
   ]
  },
  {
   "cell_type": "code",
   "execution_count": 4,
   "metadata": {},
   "outputs": [
    {
     "name": "stdout",
     "output_type": "stream",
     "text": [
      "Fraction converted group A: 0.0199   Fraction converted group B: 0.0156\n",
      "CDF of observing conversion rate B: 1.05985021524e-27\n"
     ]
    }
   ],
   "source": [
    "from scipy.stats import binom\n",
    "\n",
    "joinedRaw = pandas.merge(resultsRaw,\n",
    "                  usersRaw, how='left', \n",
    "                  left_on=['user_id'], right_on=['user_id'])\n",
    "\n",
    "groupA = joinedRaw.iloc[joinedRaw['price'].values==39]\n",
    "groupB = joinedRaw.iloc[joinedRaw['price'].values==59]\n",
    "\n",
    "# Check what fraction of users in each group convert\n",
    "# Compare conversion rates\n",
    "# Multiply rates by prices to estimate profits for each group\n",
    "\n",
    "convRateA = float(groupA['converted'].sum())/groupA['converted'].count()\n",
    "convRateB = float(groupB['converted'].sum())/groupB['converted'].count()\n",
    "print 'Fraction converted group A: %.4f   Fraction converted group B: %.4f'%(\n",
    "    convRateA,\n",
    "    convRateB)\n",
    "\n",
    "prob = binom.cdf(groupB['converted'].sum(), groupB['converted'].count(), convRateA)\n",
    "print 'CDF of observing conversion rate B:', prob"
   ]
  },
  {
   "cell_type": "markdown",
   "metadata": {},
   "source": [
    "The above means that changing the price is having a statistically significant effect on the conversion rate.\n",
    "\n",
    "Now, does this actually result in a profit...?"
   ]
  },
  {
   "cell_type": "code",
   "execution_count": 5,
   "metadata": {},
   "outputs": [
    {
     "data": {
      "text/plain": [
       "'Average profit per user, group A: 0.7757   Avg profit per user, group B: 0.9186'"
      ]
     },
     "execution_count": 5,
     "metadata": {},
     "output_type": "execute_result"
    }
   ],
   "source": [
    "'Average profit per user, group A: %.4f   Avg profit per user, group B: %.4f'%(\n",
    "    convRateA*39, convRateB*59)"
   ]
  },
  {
   "cell_type": "markdown",
   "metadata": {},
   "source": [
    "Yes, we do see a profit, so we should indeed switch everyone to the $59 price point"
   ]
  },
  {
   "cell_type": "markdown",
   "metadata": {},
   "source": [
    "## Exploratory Data Analysis"
   ]
  },
  {
   "cell_type": "code",
   "execution_count": 6,
   "metadata": {
    "collapsed": true
   },
   "outputs": [],
   "source": [
    "import matplotlib.pyplot as plt"
   ]
  },
  {
   "cell_type": "code",
   "execution_count": 7,
   "metadata": {},
   "outputs": [
    {
     "data": {
      "image/png": "[encoded data removed]",
      "text/plain": [
       "<matplotlib.figure.Figure at 0x7f9136331b90>"
      ]
     },
     "metadata": {},
     "output_type": "display_data"
    },
    {
     "data": {
      "image/png": "[encoded data removed]",
      "text/plain": [
       "<matplotlib.figure.Figure at 0x7f91327e1a90>"
      ]
     },
     "metadata": {},
     "output_type": "display_data"
    }
   ],
   "source": [
    "# Look at distribution of latitudes and longitudes \n",
    "# Can I manually segment them and turn them into regions?\n",
    "\n",
    "data = joinedRaw\n",
    "\n",
    "if False:\n",
    "    print data\n",
    "    latest_date = data['timestamp'].max()\n",
    "    data['filled_dates'] = data['timestamp'].fillna(latest_date)\n",
    "    pandas.to_datetime(data['filled_dates']).dt.dayofweek\n",
    "\n",
    "plt.figure()\n",
    "data['lat'].plot.hist(bins=20)\n",
    "plt.show()\n",
    "\n",
    "plt.figure()\n",
    "data['long'].plot.hist(bins=80)\n",
    "plt.show()\n"
   ]
  },
  {
   "cell_type": "code",
   "execution_count": 8,
   "metadata": {
    "scrolled": false
   },
   "outputs": [
    {
     "name": "stdout",
     "output_type": "stream",
     "text": [
      "(2000, 12) (2000, 2) (2000, 6) (2000,)\n"
     ]
    }
   ],
   "source": [
    "# Segment into regions\n",
    "# One hot encode user information\n",
    "\n",
    "data = joinedRaw\n",
    "\n",
    "data = pandas.concat([data.iloc[data['converted'].values==1].sample(n=1000), \n",
    "                      data.iloc[data['converted'].values==0].sample(n=1000)])\n",
    "\n",
    "data['long_fill'] = data['long'].fillna(-180)\n",
    "USeast = data['long_fill'].values > -85\n",
    "UScent = (data['long_fill'].values <= -85) & (data['long_fill'].values > -100)\n",
    "USwest = data['long_fill'].values <= -100\n",
    "\n",
    "data['lat_fill'] = data['lat'].fillna(10)\n",
    "USnorth = data['lat_fill'].values > 37\n",
    "USsouth = data['lat_fill'].values <= 37\n",
    "\n",
    "source = pandas.get_dummies(data['source'])\n",
    "device = pandas.get_dummies(data['device'])\n",
    "OSes = pandas.get_dummies(data['operative_system'])\n",
    "\n",
    "print source.shape, device.shape, OSes.shape, USeast.shape"
   ]
  },
  {
   "cell_type": "code",
   "execution_count": 9,
   "metadata": {},
   "outputs": [
    {
     "data": {
      "text/plain": [
       "2000"
      ]
     },
     "execution_count": 9,
     "metadata": {},
     "output_type": "execute_result"
    }
   ],
   "source": [
    "# Vectorize data\n",
    "\n",
    "nfeatures = 12+2+6+5\n",
    "\n",
    "nposts = len(data)\n",
    "test = ((np.arange(nposts) % 10) == 0) | ((np.arange(nposts) % 10) == 3)\n",
    "train = np.logical_not(test)\n",
    "ntrain = len(np.where(train)[0])\n",
    "\n",
    "if True:\n",
    "    data_model = np.zeros([nposts,nfeatures])\n",
    "    data_model[:,0:12] = source.values\n",
    "    data_model[:,12:14] = device.values\n",
    "    data_model[:,14:20] = OSes.values\n",
    "    data_model[:,20] = USeast\n",
    "    data_model[:,21] = UScent\n",
    "    data_model[:,22] = USwest\n",
    "    data_model[:,23] = USnorth\n",
    "    data_model[:,24] = USsouth\n",
    "    \n",
    "    feat_min = []\n",
    "    feat_max = []\n",
    "    feat_mean = []\n",
    "    for i in range(nfeatures):\n",
    "        feat_min.append(np.min(data_model[:,i]))\n",
    "        feat_max.append(np.max(data_model[:,i]))\n",
    "        feat_mean.append(np.mean(data_model[:,i]))\n",
    "        data_model[:,i] = (data_model[:,i] - feat_mean[i]) / (feat_max[i] - feat_min[i])\n",
    "\n",
    "    data_train = data_model[train,:]\n",
    "    data_test = data_model[test,:]\n",
    "    \n",
    "    y_model = data['converted'].values\n",
    "    if False:\n",
    "        y_min = np.min(y_model)\n",
    "        y_max = np.max(y_model)\n",
    "        y_mean = np.mean(y_model)\n",
    "        y_model = (y_model - y_mean)  / (y_max - y_min)\n",
    "    y_train = y_model[train]\n",
    "    y_test = y_model[test]\n",
    "\n",
    "nposts"
   ]
  },
  {
   "cell_type": "code",
   "execution_count": 10,
   "metadata": {},
   "outputs": [
    {
     "name": "stdout",
     "output_type": "stream",
     "text": [
      "96.75\n"
     ]
    },
    {
     "data": {
      "image/png": "[encoded data removed]",
      "text/plain": [
       "<matplotlib.figure.Figure at 0x7f912feae6d0>"
      ]
     },
     "metadata": {},
     "output_type": "display_data"
    },
    {
     "name": "stdout",
     "output_type": "stream",
     "text": [
      "Accuracy: 0.60000   Recall: 0.64500   F1 score: 0.31084 \n"
     ]
    }
   ],
   "source": [
    "# Run regression\n",
    "\n",
    "# Test if certain correlations are consistent and can be used as predictors for conversion rate\n",
    "    \n",
    "from sklearn import linear_model, datasets\n",
    "from sklearn.metrics import mean_squared_error as MSE, r2_score as R2S, confusion_matrix\n",
    "import matplotlib.pyplot as plt\n",
    "import itertools\n",
    "\n",
    "regr = linear_model.LogisticRegression()\n",
    "regr.fit(data_train, y_train)\n",
    "\n",
    "y_pred = regr.predict(data_test)\n",
    "cm = confusion_matrix(y_test,y_pred)\n",
    "\n",
    "if True:\n",
    "    plt.imshow(cm, interpolation='nearest', cmap=plt.cm.Blues)\n",
    "    plt.title('Predicted Conversions vs True')\n",
    "    plt.colorbar()\n",
    "\n",
    "    fmt = '.2f' if True else 'd'\n",
    "    thresh = cm.max() * .75\n",
    "    print thresh\n",
    "    for i, j in itertools.product(range(cm.shape[0]), range(cm.shape[1])):\n",
    "        plt.text(j, i, format(cm[i, j], fmt),\n",
    "                 horizontalalignment=\"center\",\n",
    "                 color=(\"white\" if (cm[i, j] > thresh) else \"black\"))\n",
    "\n",
    "    plt.tight_layout()\n",
    "    plt.ylabel('True label')\n",
    "    plt.xlabel('Predicted label')\n",
    "    plt.show()\n",
    "    \n",
    "accuracy = float(cm[0,0])/(cm[0,0]+cm[1,0])\n",
    "recall = float(cm[0,0])/(cm[0,0]+cm[0,1])\n",
    "print \"Accuracy: %.5f   Recall: %.5f   F1 score: %.5f \"%(accuracy,\n",
    "                                                    recall,\n",
    "                                                    accuracy*recall/(accuracy+recall))"
   ]
  },
  {
   "cell_type": "code",
   "execution_count": 11,
   "metadata": {},
   "outputs": [
    {
     "name": "stdout",
     "output_type": "stream",
     "text": [
      "                  0         0\n",
      "0          ads-bing -0.289128\n",
      "1        ads-google  0.018838\n",
      "2         ads-yahoo -0.081080\n",
      "3      ads_facebook  0.076021\n",
      "4         ads_other -0.080395\n",
      "5    direct_traffic -0.362188\n",
      "6   friend_referral  0.819268\n",
      "7          seo-bing  0.359920\n",
      "8        seo-google -0.152361\n",
      "9         seo-other -0.617381\n",
      "10        seo-yahoo  0.075619\n",
      "11     seo_facebook  0.232866\n",
      "12           mobile  0.198490\n",
      "13              web -0.198490\n",
      "14          android -0.286079\n",
      "15              iOS  0.341270\n",
      "16            linux -0.842616\n",
      "17              mac  0.648998\n",
      "18            other -0.206000\n",
      "19          windows  0.344425\n",
      "20           USeast -0.002425\n",
      "21           UScent -0.034284\n",
      "22           USwest  0.036709\n",
      "23          USnorth -0.049772\n",
      "24          USsouth  0.049772\n"
     ]
    }
   ],
   "source": [
    "# Which features are positively correlated with conversion?\n",
    "\n",
    "features = list(source.columns.values) + list(device.columns.values) + list(OSes.columns.values) + \\\n",
    "    ['USeast', 'UScent', 'USwest', 'USnorth', 'USsouth']\n",
    "\n",
    "coefficients = pandas.concat([pandas.DataFrame(features),\n",
    "                              pandas.DataFrame(np.transpose(regr.coef_))], \n",
    "                             axis = 1)\n",
    "print coefficients"
   ]
  },
  {
   "cell_type": "markdown",
   "metadata": {
    "collapsed": true
   },
   "source": [
    "The features that are positively correlated may be indicators of users who are more likely to convert.\n",
    "We could carry out further AB test by targeting users with such features and see if we can improve their conversion rate."
   ]
  },
  {
   "cell_type": "code",
   "execution_count": null,
   "metadata": {
    "collapsed": true
   },
   "outputs": [],
   "source": []
  }
 ],
 "metadata": {
  "kernelspec": {
   "display_name": "Python 2",
   "language": "python",
   "name": "python2"
  },
  "language_info": {
   "codemirror_mode": {
    "name": "ipython",
    "version": 2
   },
   "file_extension": ".py",
   "mimetype": "text/x-python",
   "name": "python",
   "nbconvert_exporter": "python",
   "pygments_lexer": "ipython2",
   "version": "2.7.12"
  }
 },
 "nbformat": 4,
 "nbformat_minor": 2
}
